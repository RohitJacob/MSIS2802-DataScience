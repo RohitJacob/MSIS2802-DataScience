{
 "cells": [
  {
   "cell_type": "code",
   "execution_count": 108,
   "metadata": {
    "collapsed": false
   },
   "outputs": [],
   "source": [
    "import pandas as pd\n",
    "import numpy as np\n",
    "%matplotlib inline"
   ]
  },
  {
   "cell_type": "code",
   "execution_count": 18,
   "metadata": {
    "collapsed": false
   },
   "outputs": [],
   "source": [
    "df = pd.read_csv('/Users/Rohit/Desktop/poker.csv', header=None)"
   ]
  },
  {
   "cell_type": "code",
   "execution_count": 20,
   "metadata": {
    "collapsed": false
   },
   "outputs": [],
   "source": [
    "df['C1Suit'] = df[0]\n",
    "df['C1'] = df[1]\n",
    "df['C2Suit'] = df[2]\n",
    "df['C2'] = df[3]\n",
    "df['C3Suit'] = df[4]\n",
    "df['C3'] = df[5]\n",
    "df['C4Suit'] = df[6]\n",
    "df['C4'] = df[7]\n",
    "df['C5Suit'] = df[8]\n",
    "df['C5'] = df[9]\n",
    "df['Class'] = df[10]\n",
    "df = df[['C1Suit', 'C1', 'C2Suit', 'C2', 'C3Suit', 'C3', 'C4Suit', 'C4', 'C5Suit', 'C5', 'Class']]"
   ]
  },
  {
   "cell_type": "code",
   "execution_count": 22,
   "metadata": {
    "collapsed": false
   },
   "outputs": [
    {
     "data": {
      "text/html": [
       "<div>\n",
       "<table border=\"1\" class=\"dataframe\">\n",
       "  <thead>\n",
       "    <tr style=\"text-align: right;\">\n",
       "      <th></th>\n",
       "      <th>C1Suit</th>\n",
       "      <th>C1</th>\n",
       "      <th>C2Suit</th>\n",
       "      <th>C2</th>\n",
       "      <th>C3Suit</th>\n",
       "      <th>C3</th>\n",
       "      <th>C4Suit</th>\n",
       "      <th>C4</th>\n",
       "      <th>C5Suit</th>\n",
       "      <th>C5</th>\n",
       "      <th>Class</th>\n",
       "    </tr>\n",
       "  </thead>\n",
       "  <tbody>\n",
       "    <tr>\n",
       "      <th>0</th>\n",
       "      <td>1</td>\n",
       "      <td>1</td>\n",
       "      <td>1</td>\n",
       "      <td>13</td>\n",
       "      <td>2</td>\n",
       "      <td>4</td>\n",
       "      <td>2</td>\n",
       "      <td>3</td>\n",
       "      <td>1</td>\n",
       "      <td>12</td>\n",
       "      <td>0</td>\n",
       "    </tr>\n",
       "    <tr>\n",
       "      <th>1</th>\n",
       "      <td>3</td>\n",
       "      <td>12</td>\n",
       "      <td>3</td>\n",
       "      <td>2</td>\n",
       "      <td>3</td>\n",
       "      <td>11</td>\n",
       "      <td>4</td>\n",
       "      <td>5</td>\n",
       "      <td>2</td>\n",
       "      <td>5</td>\n",
       "      <td>1</td>\n",
       "    </tr>\n",
       "    <tr>\n",
       "      <th>2</th>\n",
       "      <td>1</td>\n",
       "      <td>9</td>\n",
       "      <td>4</td>\n",
       "      <td>6</td>\n",
       "      <td>1</td>\n",
       "      <td>4</td>\n",
       "      <td>3</td>\n",
       "      <td>2</td>\n",
       "      <td>3</td>\n",
       "      <td>9</td>\n",
       "      <td>1</td>\n",
       "    </tr>\n",
       "    <tr>\n",
       "      <th>3</th>\n",
       "      <td>1</td>\n",
       "      <td>4</td>\n",
       "      <td>3</td>\n",
       "      <td>13</td>\n",
       "      <td>2</td>\n",
       "      <td>13</td>\n",
       "      <td>2</td>\n",
       "      <td>1</td>\n",
       "      <td>3</td>\n",
       "      <td>6</td>\n",
       "      <td>1</td>\n",
       "    </tr>\n",
       "    <tr>\n",
       "      <th>4</th>\n",
       "      <td>3</td>\n",
       "      <td>10</td>\n",
       "      <td>2</td>\n",
       "      <td>7</td>\n",
       "      <td>1</td>\n",
       "      <td>2</td>\n",
       "      <td>2</td>\n",
       "      <td>11</td>\n",
       "      <td>4</td>\n",
       "      <td>9</td>\n",
       "      <td>0</td>\n",
       "    </tr>\n",
       "  </tbody>\n",
       "</table>\n",
       "</div>"
      ],
      "text/plain": [
       "   C1Suit  C1  C2Suit  C2  C3Suit  C3  C4Suit  C4  C5Suit  C5  Class\n",
       "0       1   1       1  13       2   4       2   3       1  12      0\n",
       "1       3  12       3   2       3  11       4   5       2   5      1\n",
       "2       1   9       4   6       1   4       3   2       3   9      1\n",
       "3       1   4       3  13       2  13       2   1       3   6      1\n",
       "4       3  10       2   7       1   2       2  11       4   9      0"
      ]
     },
     "execution_count": 22,
     "metadata": {},
     "output_type": "execute_result"
    }
   ],
   "source": [
    "df.head()"
   ]
  },
  {
   "cell_type": "code",
   "execution_count": 25,
   "metadata": {
    "collapsed": false
   },
   "outputs": [],
   "source": [
    "temp = df[['C1Suit', 'C2Suit', 'C3Suit', 'C4Suit', 'C5Suit']]"
   ]
  },
  {
   "cell_type": "code",
   "execution_count": 46,
   "metadata": {
    "collapsed": true
   },
   "outputs": [],
   "source": [
    "suits = ['Hearts', 'Spades', 'Diamonds', 'Clubs']\n",
    "def suitup(n):\n",
    "    for i in range(1,5):\n",
    "        if(n==i):\n",
    "            n=suits[i-1]\n",
    "            return n"
   ]
  },
  {
   "cell_type": "code",
   "execution_count": 58,
   "metadata": {
    "collapsed": false
   },
   "outputs": [
    {
     "name": "stderr",
     "output_type": "stream",
     "text": [
      "/Users/Rohit/Library/Enthought/Canopy_64bit/User/lib/python2.7/site-packages/ipykernel/__main__.py:5: SettingWithCopyWarning: \n",
      "A value is trying to be set on a copy of a slice from a DataFrame.\n",
      "Try using .loc[row_indexer,col_indexer] = value instead\n",
      "\n",
      "See the caveats in the documentation: http://pandas.pydata.org/pandas-docs/stable/indexing.html#indexing-view-versus-copy\n"
     ]
    }
   ],
   "source": [
    "for col in df.columns:\n",
    "#     print col.lower()\n",
    "    if('suit' in col.lower()):\n",
    "#         print col\n",
    "        df[col] = df[col].apply(lambda x: suitup(x))"
   ]
  },
  {
   "cell_type": "code",
   "execution_count": 69,
   "metadata": {
    "collapsed": false
   },
   "outputs": [],
   "source": [
    "# df['Outcome'] = df['Class'].apply()\n",
    "strtemp=\"0: Nothing in hand; not a recognized poker hand\\\n",
    "      1: One pair; one pair of equal ranks within five cards\\\n",
    "      2: Two pairs; two pairs of equal ranks within five cards\\\n",
    "      3: Three of a kind; three equal ranks within five cards\\\n",
    "      4: Straight; five cards, sequentially ranked with no gaps\\\n",
    "      5: Flush; five cards with the same suit\\\n",
    "      6: Full house; pair + different rank three of a kind\\\n",
    "      7: Four of a kind; four equal ranks within five cards\\\n",
    "      8: Straight flush; straight + flush\\\n",
    "      9: Royal flush; {Ace, King, Queen, Jack, Ten} + flush\""
   ]
  },
  {
   "cell_type": "code",
   "execution_count": 95,
   "metadata": {
    "collapsed": false
   },
   "outputs": [],
   "source": [
    "c = strtemp.split('      ')\n",
    "for x in c:\n",
    "    x.replace(x,x.split(':')[1])"
   ]
  },
  {
   "cell_type": "code",
   "execution_count": 99,
   "metadata": {
    "collapsed": false
   },
   "outputs": [],
   "source": [
    "wintype = [i.split(':')[1] for i in c] "
   ]
  },
  {
   "cell_type": "code",
   "execution_count": 102,
   "metadata": {
    "collapsed": false
   },
   "outputs": [
    {
     "name": "stderr",
     "output_type": "stream",
     "text": [
      "/Users/Rohit/Library/Enthought/Canopy_64bit/User/lib/python2.7/site-packages/ipykernel/__main__.py:1: SettingWithCopyWarning: \n",
      "A value is trying to be set on a copy of a slice from a DataFrame.\n",
      "Try using .loc[row_indexer,col_indexer] = value instead\n",
      "\n",
      "See the caveats in the documentation: http://pandas.pydata.org/pandas-docs/stable/indexing.html#indexing-view-versus-copy\n",
      "  if __name__ == '__main__':\n"
     ]
    }
   ],
   "source": [
    "df['Outcome'] = df['Class'].apply(lambda x: wintype[x])"
   ]
  },
  {
   "cell_type": "code",
   "execution_count": 105,
   "metadata": {
    "collapsed": false
   },
   "outputs": [
    {
     "name": "stderr",
     "output_type": "stream",
     "text": [
      "/Users/Rohit/Library/Enthought/Canopy_64bit/User/lib/python2.7/site-packages/pandas/core/generic.py:2698: SettingWithCopyWarning: \n",
      "A value is trying to be set on a copy of a slice from a DataFrame.\n",
      "Try using .loc[row_indexer,col_indexer] = value instead\n",
      "\n",
      "See the caveats in the documentation: http://pandas.pydata.org/pandas-docs/stable/indexing.html#indexing-view-versus-copy\n",
      "  self[name] = value\n"
     ]
    }
   ],
   "source": [
    "df.Outcome = df.Outcome.apply(lambda x: x.split(';')[0])"
   ]
  },
  {
   "cell_type": "code",
   "execution_count": 113,
   "metadata": {
    "collapsed": false
   },
   "outputs": [
    {
     "data": {
      "text/html": [
       "<div>\n",
       "<table border=\"1\" class=\"dataframe\">\n",
       "  <thead>\n",
       "    <tr style=\"text-align: right;\">\n",
       "      <th></th>\n",
       "      <th>C1</th>\n",
       "    </tr>\n",
       "    <tr>\n",
       "      <th>Class</th>\n",
       "      <th></th>\n",
       "    </tr>\n",
       "  </thead>\n",
       "  <tbody>\n",
       "    <tr>\n",
       "      <th>0</th>\n",
       "      <td>3502444</td>\n",
       "    </tr>\n",
       "    <tr>\n",
       "      <th>1</th>\n",
       "      <td>2959904</td>\n",
       "    </tr>\n",
       "    <tr>\n",
       "      <th>2</th>\n",
       "      <td>332297</td>\n",
       "    </tr>\n",
       "    <tr>\n",
       "      <th>3</th>\n",
       "      <td>148974</td>\n",
       "    </tr>\n",
       "    <tr>\n",
       "      <th>4</th>\n",
       "      <td>28358</td>\n",
       "    </tr>\n",
       "    <tr>\n",
       "      <th>5</th>\n",
       "      <td>14110</td>\n",
       "    </tr>\n",
       "    <tr>\n",
       "      <th>6</th>\n",
       "      <td>10172</td>\n",
       "    </tr>\n",
       "    <tr>\n",
       "      <th>7</th>\n",
       "      <td>1542</td>\n",
       "    </tr>\n",
       "    <tr>\n",
       "      <th>8</th>\n",
       "      <td>103</td>\n",
       "    </tr>\n",
       "    <tr>\n",
       "      <th>9</th>\n",
       "      <td>23</td>\n",
       "    </tr>\n",
       "  </tbody>\n",
       "</table>\n",
       "</div>"
      ],
      "text/plain": [
       "            C1\n",
       "Class         \n",
       "0      3502444\n",
       "1      2959904\n",
       "2       332297\n",
       "3       148974\n",
       "4        28358\n",
       "5        14110\n",
       "6        10172\n",
       "7         1542\n",
       "8          103\n",
       "9           23"
      ]
     },
     "execution_count": 113,
     "metadata": {},
     "output_type": "execute_result"
    }
   ],
   "source": [
    "pd.DataFrame(df.groupby('Class')['C1'].sum())"
   ]
  },
  {
   "cell_type": "code",
   "execution_count": 115,
   "metadata": {
    "collapsed": false
   },
   "outputs": [
    {
     "data": {
      "text/html": [
       "<div>\n",
       "<table border=\"1\" class=\"dataframe\">\n",
       "  <thead>\n",
       "    <tr style=\"text-align: right;\">\n",
       "      <th></th>\n",
       "      <th>C1Suit</th>\n",
       "      <th>C1</th>\n",
       "      <th>C2Suit</th>\n",
       "      <th>C2</th>\n",
       "      <th>C3Suit</th>\n",
       "      <th>C3</th>\n",
       "      <th>C4Suit</th>\n",
       "      <th>C4</th>\n",
       "      <th>C5Suit</th>\n",
       "      <th>C5</th>\n",
       "      <th>Class</th>\n",
       "      <th>Outcome</th>\n",
       "    </tr>\n",
       "  </thead>\n",
       "  <tbody>\n",
       "    <tr>\n",
       "      <th>0</th>\n",
       "      <td>Hearts</td>\n",
       "      <td>1</td>\n",
       "      <td>Hearts</td>\n",
       "      <td>13</td>\n",
       "      <td>Spades</td>\n",
       "      <td>4</td>\n",
       "      <td>Spades</td>\n",
       "      <td>3</td>\n",
       "      <td>Hearts</td>\n",
       "      <td>12</td>\n",
       "      <td>0</td>\n",
       "      <td>Nothing in hand</td>\n",
       "    </tr>\n",
       "    <tr>\n",
       "      <th>1</th>\n",
       "      <td>Diamonds</td>\n",
       "      <td>12</td>\n",
       "      <td>Diamonds</td>\n",
       "      <td>2</td>\n",
       "      <td>Diamonds</td>\n",
       "      <td>11</td>\n",
       "      <td>Clubs</td>\n",
       "      <td>5</td>\n",
       "      <td>Spades</td>\n",
       "      <td>5</td>\n",
       "      <td>1</td>\n",
       "      <td>One pair</td>\n",
       "    </tr>\n",
       "    <tr>\n",
       "      <th>2</th>\n",
       "      <td>Hearts</td>\n",
       "      <td>9</td>\n",
       "      <td>Clubs</td>\n",
       "      <td>6</td>\n",
       "      <td>Hearts</td>\n",
       "      <td>4</td>\n",
       "      <td>Diamonds</td>\n",
       "      <td>2</td>\n",
       "      <td>Diamonds</td>\n",
       "      <td>9</td>\n",
       "      <td>1</td>\n",
       "      <td>One pair</td>\n",
       "    </tr>\n",
       "    <tr>\n",
       "      <th>3</th>\n",
       "      <td>Hearts</td>\n",
       "      <td>4</td>\n",
       "      <td>Diamonds</td>\n",
       "      <td>13</td>\n",
       "      <td>Spades</td>\n",
       "      <td>13</td>\n",
       "      <td>Spades</td>\n",
       "      <td>1</td>\n",
       "      <td>Diamonds</td>\n",
       "      <td>6</td>\n",
       "      <td>1</td>\n",
       "      <td>One pair</td>\n",
       "    </tr>\n",
       "    <tr>\n",
       "      <th>4</th>\n",
       "      <td>Diamonds</td>\n",
       "      <td>10</td>\n",
       "      <td>Spades</td>\n",
       "      <td>7</td>\n",
       "      <td>Hearts</td>\n",
       "      <td>2</td>\n",
       "      <td>Spades</td>\n",
       "      <td>11</td>\n",
       "      <td>Clubs</td>\n",
       "      <td>9</td>\n",
       "      <td>0</td>\n",
       "      <td>Nothing in hand</td>\n",
       "    </tr>\n",
       "  </tbody>\n",
       "</table>\n",
       "</div>"
      ],
      "text/plain": [
       "     C1Suit  C1    C2Suit  C2    C3Suit  C3    C4Suit  C4    C5Suit  C5  \\\n",
       "0    Hearts   1    Hearts  13    Spades   4    Spades   3    Hearts  12   \n",
       "1  Diamonds  12  Diamonds   2  Diamonds  11     Clubs   5    Spades   5   \n",
       "2    Hearts   9     Clubs   6    Hearts   4  Diamonds   2  Diamonds   9   \n",
       "3    Hearts   4  Diamonds  13    Spades  13    Spades   1  Diamonds   6   \n",
       "4  Diamonds  10    Spades   7    Hearts   2    Spades  11     Clubs   9   \n",
       "\n",
       "   Class           Outcome  \n",
       "0      0   Nothing in hand  \n",
       "1      1          One pair  \n",
       "2      1          One pair  \n",
       "3      1          One pair  \n",
       "4      0   Nothing in hand  "
      ]
     },
     "execution_count": 115,
     "metadata": {},
     "output_type": "execute_result"
    }
   ],
   "source": [
    "df.head()"
   ]
  },
  {
   "cell_type": "code",
   "execution_count": null,
   "metadata": {
    "collapsed": true
   },
   "outputs": [],
   "source": []
  }
 ],
 "metadata": {
  "kernelspec": {
   "display_name": "Python 2",
   "language": "python",
   "name": "python2"
  },
  "language_info": {
   "codemirror_mode": {
    "name": "ipython",
    "version": 2
   },
   "file_extension": ".py",
   "mimetype": "text/x-python",
   "name": "python",
   "nbconvert_exporter": "python",
   "pygments_lexer": "ipython2",
   "version": "2.7.11"
  }
 },
 "nbformat": 4,
 "nbformat_minor": 0
}
