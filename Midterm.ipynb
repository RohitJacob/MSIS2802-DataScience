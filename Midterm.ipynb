{
 "cells": [
  {
   "cell_type": "markdown",
   "metadata": {},
   "source": [
    "### MSIS 2802 - Data Science with Python\n",
    "\n",
    "__Midterm Take-Home Exam__ | Submitted by: Rohit Jacob "
   ]
  },
  {
   "cell_type": "code",
   "execution_count": 557,
   "metadata": {
    "collapsed": false
   },
   "outputs": [],
   "source": [
    "import pandas as pd\n",
    "import numpy as np\n",
    "import seaborn as sns\n",
    "%matplotlib inline"
   ]
  },
  {
   "cell_type": "code",
   "execution_count": 545,
   "metadata": {
    "collapsed": true
   },
   "outputs": [],
   "source": [
    "df = pd.read_csv('/Users/Rohit/Desktop/midterm.tsv', delimiter='\\t', engine='python')"
   ]
  },
  {
   "cell_type": "code",
   "execution_count": 438,
   "metadata": {
    "collapsed": false
   },
   "outputs": [],
   "source": [
    "df.index = df.iloc[:,0]\n",
    "del df[df.columns[0]]"
   ]
  },
  {
   "cell_type": "code",
   "execution_count": 439,
   "metadata": {
    "collapsed": false
   },
   "outputs": [
    {
     "data": {
      "text/html": [
       "<div>\n",
       "<table border=\"1\" class=\"dataframe\">\n",
       "  <thead>\n",
       "    <tr style=\"text-align: right;\">\n",
       "      <th></th>\n",
       "      <th>2015</th>\n",
       "      <th>2014</th>\n",
       "      <th>2013</th>\n",
       "      <th>2012</th>\n",
       "      <th>2011</th>\n",
       "      <th>2010</th>\n",
       "      <th>2009</th>\n",
       "      <th>2008</th>\n",
       "      <th>2007</th>\n",
       "      <th>2006</th>\n",
       "      <th>2005</th>\n",
       "      <th>2004</th>\n",
       "      <th>2003</th>\n",
       "      <th>2002</th>\n",
       "      <th>2001</th>\n",
       "      <th>2000</th>\n",
       "      <th>1999</th>\n",
       "    </tr>\n",
       "    <tr>\n",
       "      <th>indic_et,sitc06,partner,geo\\time</th>\n",
       "      <th></th>\n",
       "      <th></th>\n",
       "      <th></th>\n",
       "      <th></th>\n",
       "      <th></th>\n",
       "      <th></th>\n",
       "      <th></th>\n",
       "      <th></th>\n",
       "      <th></th>\n",
       "      <th></th>\n",
       "      <th></th>\n",
       "      <th></th>\n",
       "      <th></th>\n",
       "      <th></th>\n",
       "      <th></th>\n",
       "      <th></th>\n",
       "      <th></th>\n",
       "    </tr>\n",
       "  </thead>\n",
       "  <tbody>\n",
       "    <tr>\n",
       "      <th>CONT_EXP_EU,SITC0_1,EU27,AT</th>\n",
       "      <td>2.4</td>\n",
       "      <td>2.5</td>\n",
       "      <td>2.4</td>\n",
       "      <td>2.5</td>\n",
       "      <td>2.5</td>\n",
       "      <td>2.5</td>\n",
       "      <td>2.6</td>\n",
       "      <td>2.6</td>\n",
       "      <td>2.6</td>\n",
       "      <td>2.6</td>\n",
       "      <td>2.5</td>\n",
       "      <td>2.4</td>\n",
       "      <td>2.4</td>\n",
       "      <td>2.1</td>\n",
       "      <td>2.1</td>\n",
       "      <td>2.0</td>\n",
       "      <td>1.9</td>\n",
       "    </tr>\n",
       "    <tr>\n",
       "      <th>CONT_EXP_EU,SITC0_1,EU27,BE</th>\n",
       "      <td>9.1</td>\n",
       "      <td>9.0</td>\n",
       "      <td>9.0</td>\n",
       "      <td>9.2</td>\n",
       "      <td>9.1</td>\n",
       "      <td>9.1</td>\n",
       "      <td>9.6</td>\n",
       "      <td>9.4</td>\n",
       "      <td>9.5</td>\n",
       "      <td>9.6</td>\n",
       "      <td>9.9</td>\n",
       "      <td>10.1</td>\n",
       "      <td>10.2</td>\n",
       "      <td>10.4</td>\n",
       "      <td>10.5</td>\n",
       "      <td>10.4</td>\n",
       "      <td>10.6</td>\n",
       "    </tr>\n",
       "    <tr>\n",
       "      <th>CONT_EXP_EU,SITC0_1,EU27,BG</th>\n",
       "      <td>0.6</td>\n",
       "      <td>0.6</td>\n",
       "      <td>0.6</td>\n",
       "      <td>0.6</td>\n",
       "      <td>0.6</td>\n",
       "      <td>0.6</td>\n",
       "      <td>0.5</td>\n",
       "      <td>0.4</td>\n",
       "      <td>0.3</td>\n",
       "      <td>0.2</td>\n",
       "      <td>0.2</td>\n",
       "      <td>0.2</td>\n",
       "      <td>0.2</td>\n",
       "      <td>0.2</td>\n",
       "      <td>0.2</td>\n",
       "      <td>0.1</td>\n",
       "      <td>0.2</td>\n",
       "    </tr>\n",
       "    <tr>\n",
       "      <th>CONT_EXP_EU,SITC0_1,EU27,CY</th>\n",
       "      <td>0.1</td>\n",
       "      <td>0.1</td>\n",
       "      <td>0.1</td>\n",
       "      <td>0.0</td>\n",
       "      <td>0.1</td>\n",
       "      <td>0.1</td>\n",
       "      <td>0.1</td>\n",
       "      <td>0.1</td>\n",
       "      <td>0.1</td>\n",
       "      <td>0.1</td>\n",
       "      <td>0.1</td>\n",
       "      <td>0.1</td>\n",
       "      <td>0.1</td>\n",
       "      <td>0.1</td>\n",
       "      <td>0.1</td>\n",
       "      <td>0.1</td>\n",
       "      <td>0.1</td>\n",
       "    </tr>\n",
       "    <tr>\n",
       "      <th>CONT_EXP_EU,SITC0_1,EU27,CZ</th>\n",
       "      <td>1.9</td>\n",
       "      <td>1.7</td>\n",
       "      <td>1.6</td>\n",
       "      <td>1.6</td>\n",
       "      <td>1.5</td>\n",
       "      <td>1.4</td>\n",
       "      <td>1.4</td>\n",
       "      <td>1.4</td>\n",
       "      <td>1.3</td>\n",
       "      <td>1.1</td>\n",
       "      <td>1.1</td>\n",
       "      <td>0.9</td>\n",
       "      <td>0.7</td>\n",
       "      <td>0.7</td>\n",
       "      <td>0.6</td>\n",
       "      <td>0.6</td>\n",
       "      <td>0.5</td>\n",
       "    </tr>\n",
       "  </tbody>\n",
       "</table>\n",
       "</div>"
      ],
      "text/plain": [
       "                                 2015  2014  2013  2012  2011  2010  2009   \\\n",
       "indic_et,sitc06,partner,geo\\time                                             \n",
       "CONT_EXP_EU,SITC0_1,EU27,AT       2.4   2.5   2.4   2.5   2.5   2.5   2.6    \n",
       "CONT_EXP_EU,SITC0_1,EU27,BE       9.1   9.0   9.0   9.2   9.1   9.1   9.6    \n",
       "CONT_EXP_EU,SITC0_1,EU27,BG       0.6   0.6   0.6   0.6   0.6   0.6   0.5    \n",
       "CONT_EXP_EU,SITC0_1,EU27,CY       0.1   0.1   0.1   0.0   0.1   0.1   0.1    \n",
       "CONT_EXP_EU,SITC0_1,EU27,CZ       1.9   1.7   1.6   1.6   1.5   1.4   1.4    \n",
       "\n",
       "                                 2008  2007  2006  2005   2004   2003   2002   \\\n",
       "indic_et,sitc06,partner,geo\\time                                                \n",
       "CONT_EXP_EU,SITC0_1,EU27,AT       2.6   2.6   2.6   2.5    2.4    2.4    2.1    \n",
       "CONT_EXP_EU,SITC0_1,EU27,BE       9.4   9.5   9.6   9.9   10.1   10.2   10.4    \n",
       "CONT_EXP_EU,SITC0_1,EU27,BG       0.4   0.3   0.2   0.2    0.2    0.2    0.2    \n",
       "CONT_EXP_EU,SITC0_1,EU27,CY       0.1   0.1   0.1   0.1    0.1    0.1    0.1    \n",
       "CONT_EXP_EU,SITC0_1,EU27,CZ       1.4   1.3   1.1   1.1    0.9    0.7    0.7    \n",
       "\n",
       "                                  2001   2000   1999   \n",
       "indic_et,sitc06,partner,geo\\time                       \n",
       "CONT_EXP_EU,SITC0_1,EU27,AT        2.1    2.0    1.9   \n",
       "CONT_EXP_EU,SITC0_1,EU27,BE       10.5   10.4   10.6   \n",
       "CONT_EXP_EU,SITC0_1,EU27,BG        0.2    0.1    0.2   \n",
       "CONT_EXP_EU,SITC0_1,EU27,CY        0.1    0.1    0.1   \n",
       "CONT_EXP_EU,SITC0_1,EU27,CZ        0.6    0.6    0.5   "
      ]
     },
     "execution_count": 439,
     "metadata": {},
     "output_type": "execute_result"
    }
   ],
   "source": [
    "df.head()"
   ]
  },
  {
   "cell_type": "code",
   "execution_count": 440,
   "metadata": {
    "collapsed": false
   },
   "outputs": [
    {
     "data": {
      "text/plain": [
       "(9328, 17)"
      ]
     },
     "execution_count": 440,
     "metadata": {},
     "output_type": "execute_result"
    }
   ],
   "source": [
    "df = df.fillna(0)\n",
    "df.shape"
   ]
  },
  {
   "cell_type": "code",
   "execution_count": 441,
   "metadata": {
    "collapsed": false
   },
   "outputs": [],
   "source": [
    "mean = df.replace(': ', 0).replace('',0).replace('0 n', float(0)).apply(lambda x: pd.to_numeric(x)).mean(axis=1).to_frame()"
   ]
  },
  {
   "cell_type": "code",
   "execution_count": 442,
   "metadata": {
    "collapsed": false
   },
   "outputs": [],
   "source": [
    "mean['Mean'] = mean[0]\n",
    "del mean[0]"
   ]
  },
  {
   "cell_type": "code",
   "execution_count": 443,
   "metadata": {
    "collapsed": false
   },
   "outputs": [
    {
     "data": {
      "text/html": [
       "<div>\n",
       "<table border=\"1\" class=\"dataframe\">\n",
       "  <thead>\n",
       "    <tr style=\"text-align: right;\">\n",
       "      <th></th>\n",
       "      <th>Mean</th>\n",
       "    </tr>\n",
       "    <tr>\n",
       "      <th>indic_et,sitc06,partner,geo\\time</th>\n",
       "      <th></th>\n",
       "    </tr>\n",
       "  </thead>\n",
       "  <tbody>\n",
       "    <tr>\n",
       "      <th>CONT_EXP_EU,SITC0_1,EU27,AT</th>\n",
       "      <td>2.388235</td>\n",
       "    </tr>\n",
       "    <tr>\n",
       "      <th>CONT_EXP_EU,SITC0_1,EU27,BE</th>\n",
       "      <td>9.688235</td>\n",
       "    </tr>\n",
       "    <tr>\n",
       "      <th>CONT_EXP_EU,SITC0_1,EU27,BG</th>\n",
       "      <td>0.370588</td>\n",
       "    </tr>\n",
       "    <tr>\n",
       "      <th>CONT_EXP_EU,SITC0_1,EU27,CY</th>\n",
       "      <td>0.094118</td>\n",
       "    </tr>\n",
       "    <tr>\n",
       "      <th>CONT_EXP_EU,SITC0_1,EU27,CZ</th>\n",
       "      <td>1.176471</td>\n",
       "    </tr>\n",
       "  </tbody>\n",
       "</table>\n",
       "</div>"
      ],
      "text/plain": [
       "                                      Mean\n",
       "indic_et,sitc06,partner,geo\\time          \n",
       "CONT_EXP_EU,SITC0_1,EU27,AT       2.388235\n",
       "CONT_EXP_EU,SITC0_1,EU27,BE       9.688235\n",
       "CONT_EXP_EU,SITC0_1,EU27,BG       0.370588\n",
       "CONT_EXP_EU,SITC0_1,EU27,CY       0.094118\n",
       "CONT_EXP_EU,SITC0_1,EU27,CZ       1.176471"
      ]
     },
     "execution_count": 443,
     "metadata": {},
     "output_type": "execute_result"
    }
   ],
   "source": [
    "mean.head()"
   ]
  },
  {
   "cell_type": "code",
   "execution_count": 444,
   "metadata": {
    "collapsed": false
   },
   "outputs": [
    {
     "data": {
      "text/html": [
       "<div>\n",
       "<table border=\"1\" class=\"dataframe\">\n",
       "  <thead>\n",
       "    <tr style=\"text-align: right;\">\n",
       "      <th></th>\n",
       "      <th>Mean</th>\n",
       "      <th>0</th>\n",
       "    </tr>\n",
       "    <tr>\n",
       "      <th>indic_et,sitc06,partner,geo\\time</th>\n",
       "      <th></th>\n",
       "      <th></th>\n",
       "    </tr>\n",
       "  </thead>\n",
       "  <tbody>\n",
       "    <tr>\n",
       "      <th>CONT_EXP_EU,SITC0_1,EU27,AT</th>\n",
       "      <td>2.388235</td>\n",
       "      <td>CONT_EXP_EU,SITC0_1,EU27,AT</td>\n",
       "    </tr>\n",
       "    <tr>\n",
       "      <th>CONT_EXP_EU,SITC0_1,EU27,BE</th>\n",
       "      <td>9.688235</td>\n",
       "      <td>CONT_EXP_EU,SITC0_1,EU27,BE</td>\n",
       "    </tr>\n",
       "    <tr>\n",
       "      <th>CONT_EXP_EU,SITC0_1,EU27,BG</th>\n",
       "      <td>0.370588</td>\n",
       "      <td>CONT_EXP_EU,SITC0_1,EU27,BG</td>\n",
       "    </tr>\n",
       "    <tr>\n",
       "      <th>CONT_EXP_EU,SITC0_1,EU27,CY</th>\n",
       "      <td>0.094118</td>\n",
       "      <td>CONT_EXP_EU,SITC0_1,EU27,CY</td>\n",
       "    </tr>\n",
       "    <tr>\n",
       "      <th>CONT_EXP_EU,SITC0_1,EU27,CZ</th>\n",
       "      <td>1.176471</td>\n",
       "      <td>CONT_EXP_EU,SITC0_1,EU27,CZ</td>\n",
       "    </tr>\n",
       "  </tbody>\n",
       "</table>\n",
       "</div>"
      ],
      "text/plain": [
       "                                      Mean                            0\n",
       "indic_et,sitc06,partner,geo\\time                                       \n",
       "CONT_EXP_EU,SITC0_1,EU27,AT       2.388235  CONT_EXP_EU,SITC0_1,EU27,AT\n",
       "CONT_EXP_EU,SITC0_1,EU27,BE       9.688235  CONT_EXP_EU,SITC0_1,EU27,BE\n",
       "CONT_EXP_EU,SITC0_1,EU27,BG       0.370588  CONT_EXP_EU,SITC0_1,EU27,BG\n",
       "CONT_EXP_EU,SITC0_1,EU27,CY       0.094118  CONT_EXP_EU,SITC0_1,EU27,CY\n",
       "CONT_EXP_EU,SITC0_1,EU27,CZ       1.176471  CONT_EXP_EU,SITC0_1,EU27,CZ"
      ]
     },
     "execution_count": 444,
     "metadata": {},
     "output_type": "execute_result"
    }
   ],
   "source": [
    "mean[0] = mean.index\n",
    "mean.head()"
   ]
  },
  {
   "cell_type": "code",
   "execution_count": 445,
   "metadata": {
    "collapsed": false
   },
   "outputs": [],
   "source": [
    "d = mean[0].apply(lambda x: pd.Series(x.split(',')))"
   ]
  },
  {
   "cell_type": "code",
   "execution_count": 462,
   "metadata": {
    "collapsed": false
   },
   "outputs": [],
   "source": [
    "mean = mean[[\"Mean\"]]\n",
    "mean= mean.join(d)\n",
    "m = mean.reset_index()"
   ]
  },
  {
   "cell_type": "code",
   "execution_count": 463,
   "metadata": {
    "collapsed": false
   },
   "outputs": [],
   "source": [
    "m.head()\n",
    "m = m[[0,1,2,3,'Mean']]"
   ]
  },
  {
   "cell_type": "code",
   "execution_count": 464,
   "metadata": {
    "collapsed": false
   },
   "outputs": [
    {
     "data": {
      "text/html": [
       "<div>\n",
       "<table border=\"1\" class=\"dataframe\">\n",
       "  <thead>\n",
       "    <tr style=\"text-align: right;\">\n",
       "      <th></th>\n",
       "      <th>0</th>\n",
       "      <th>1</th>\n",
       "      <th>2</th>\n",
       "      <th>3</th>\n",
       "      <th>Mean</th>\n",
       "    </tr>\n",
       "  </thead>\n",
       "  <tbody>\n",
       "    <tr>\n",
       "      <th>0</th>\n",
       "      <td>CONT_EXP_EU</td>\n",
       "      <td>SITC0_1</td>\n",
       "      <td>EU27</td>\n",
       "      <td>AT</td>\n",
       "      <td>2.388235</td>\n",
       "    </tr>\n",
       "    <tr>\n",
       "      <th>1</th>\n",
       "      <td>CONT_EXP_EU</td>\n",
       "      <td>SITC0_1</td>\n",
       "      <td>EU27</td>\n",
       "      <td>BE</td>\n",
       "      <td>9.688235</td>\n",
       "    </tr>\n",
       "    <tr>\n",
       "      <th>2</th>\n",
       "      <td>CONT_EXP_EU</td>\n",
       "      <td>SITC0_1</td>\n",
       "      <td>EU27</td>\n",
       "      <td>BG</td>\n",
       "      <td>0.370588</td>\n",
       "    </tr>\n",
       "    <tr>\n",
       "      <th>3</th>\n",
       "      <td>CONT_EXP_EU</td>\n",
       "      <td>SITC0_1</td>\n",
       "      <td>EU27</td>\n",
       "      <td>CY</td>\n",
       "      <td>0.094118</td>\n",
       "    </tr>\n",
       "    <tr>\n",
       "      <th>4</th>\n",
       "      <td>CONT_EXP_EU</td>\n",
       "      <td>SITC0_1</td>\n",
       "      <td>EU27</td>\n",
       "      <td>CZ</td>\n",
       "      <td>1.176471</td>\n",
       "    </tr>\n",
       "  </tbody>\n",
       "</table>\n",
       "</div>"
      ],
      "text/plain": [
       "             0        1     2   3      Mean\n",
       "0  CONT_EXP_EU  SITC0_1  EU27  AT  2.388235\n",
       "1  CONT_EXP_EU  SITC0_1  EU27  BE  9.688235\n",
       "2  CONT_EXP_EU  SITC0_1  EU27  BG  0.370588\n",
       "3  CONT_EXP_EU  SITC0_1  EU27  CY  0.094118\n",
       "4  CONT_EXP_EU  SITC0_1  EU27  CZ  1.176471"
      ]
     },
     "execution_count": 464,
     "metadata": {},
     "output_type": "execute_result"
    }
   ],
   "source": [
    "m.head()"
   ]
  },
  {
   "cell_type": "code",
   "execution_count": 465,
   "metadata": {
    "collapsed": true
   },
   "outputs": [],
   "source": [
    "n = m[(m[0]=='CONT_EXP_EU') & (m[2]=='EU27') & (m[1]=='TOTAL') & (m[3]!=m[2])]"
   ]
  },
  {
   "cell_type": "code",
   "execution_count": 466,
   "metadata": {
    "collapsed": false
   },
   "outputs": [],
   "source": [
    "ansone = n[[3, 'Mean']]\n",
    "ansone.index = ansone[3]"
   ]
  },
  {
   "cell_type": "markdown",
   "metadata": {},
   "source": [
    "## Question 1: Which EU country has the highest average intra-EU trade from 1999-2015 and what is this annual average?\n",
    "\n",
    "Answer 1: Germany (DE) has the highest average intra-EU trade at (22.34)"
   ]
  },
  {
   "cell_type": "code",
   "execution_count": 546,
   "metadata": {
    "collapsed": false
   },
   "outputs": [
    {
     "data": {
      "text/html": [
       "<div>\n",
       "<table border=\"1\" class=\"dataframe\">\n",
       "  <thead>\n",
       "    <tr style=\"text-align: right;\">\n",
       "      <th></th>\n",
       "      <th>3</th>\n",
       "      <th>Mean</th>\n",
       "    </tr>\n",
       "    <tr>\n",
       "      <th>3</th>\n",
       "      <th></th>\n",
       "      <th></th>\n",
       "    </tr>\n",
       "  </thead>\n",
       "  <tbody>\n",
       "    <tr>\n",
       "      <th>DE</th>\n",
       "      <td>DE</td>\n",
       "      <td>22.341176</td>\n",
       "    </tr>\n",
       "    <tr>\n",
       "      <th>NL</th>\n",
       "      <td>NL</td>\n",
       "      <td>12.147059</td>\n",
       "    </tr>\n",
       "    <tr>\n",
       "      <th>FR</th>\n",
       "      <td>FR</td>\n",
       "      <td>10.576471</td>\n",
       "    </tr>\n",
       "    <tr>\n",
       "      <th>BE</th>\n",
       "      <td>BE</td>\n",
       "      <td>8.888235</td>\n",
       "    </tr>\n",
       "    <tr>\n",
       "      <th>IT</th>\n",
       "      <td>IT</td>\n",
       "      <td>8.100000</td>\n",
       "    </tr>\n",
       "  </tbody>\n",
       "</table>\n",
       "</div>"
      ],
      "text/plain": [
       "     3       Mean\n",
       "3                \n",
       "DE  DE  22.341176\n",
       "NL  NL  12.147059\n",
       "FR  FR  10.576471\n",
       "BE  BE   8.888235\n",
       "IT  IT   8.100000"
      ]
     },
     "execution_count": 546,
     "metadata": {},
     "output_type": "execute_result"
    }
   ],
   "source": [
    "ansone = ansone.sort_values(by='Mean', ascending=False)\n",
    "ansone.head(5)"
   ]
  },
  {
   "cell_type": "code",
   "execution_count": 558,
   "metadata": {
    "collapsed": false
   },
   "outputs": [
    {
     "data": {
      "text/plain": [
       "<matplotlib.axes._subplots.AxesSubplot at 0x12f907310>"
      ]
     },
     "execution_count": 558,
     "metadata": {},
     "output_type": "execute_result"
    },
    {
     "data": {
      "image/png": "[encoded data removed]",
      "text/plain": [
       "<matplotlib.figure.Figure at 0x12f9074d0>"
      ]
     },
     "metadata": {},
     "output_type": "display_data"
    }
   ],
   "source": [
    "ansone.head(5).plot(kind='bar', color='orangered')"
   ]
  },
  {
   "cell_type": "code",
   "execution_count": 517,
   "metadata": {
    "collapsed": false
   },
   "outputs": [],
   "source": [
    "d = pd.read_csv('/Users/Rohit/Desktop/midterm.tsv', delimiter=',|\\t', engine='python')\n",
    "o = d[(d['indic_et']=='MIO_EXP_VAL') & (d['partner']=='EU27') & (d['sitc06']=='TOTAL') & (d['partner']!=d['geo\\\\time'])]"
   ]
  },
  {
   "cell_type": "code",
   "execution_count": 518,
   "metadata": {
    "collapsed": false
   },
   "outputs": [],
   "source": [
    "anstwo = o.iloc[:,4:]\n",
    "anstwo.index = o['geo\\\\time']"
   ]
  },
  {
   "cell_type": "markdown",
   "metadata": {},
   "source": [
    "## Question 2: Which year has the highest amount of intra-EU trade between 1999-2015 and what is the total amount?\n",
    "\n",
    "Answer 2: 2015 has the highest amount (3,048,787)"
   ]
  },
  {
   "cell_type": "code",
   "execution_count": 549,
   "metadata": {
    "collapsed": false
   },
   "outputs": [
    {
     "data": {
      "text/html": [
       "<div>\n",
       "<table border=\"1\" class=\"dataframe\">\n",
       "  <thead>\n",
       "    <tr style=\"text-align: right;\">\n",
       "      <th></th>\n",
       "      <th>0</th>\n",
       "    </tr>\n",
       "  </thead>\n",
       "  <tbody>\n",
       "    <tr>\n",
       "      <th>2015</th>\n",
       "      <td>3048787</td>\n",
       "    </tr>\n",
       "    <tr>\n",
       "      <th>2014</th>\n",
       "      <td>2913472</td>\n",
       "    </tr>\n",
       "    <tr>\n",
       "      <th>2013</th>\n",
       "      <td>2822159</td>\n",
       "    </tr>\n",
       "    <tr>\n",
       "      <th>2012</th>\n",
       "      <td>2819925</td>\n",
       "    </tr>\n",
       "    <tr>\n",
       "      <th>2011</th>\n",
       "      <td>2805127</td>\n",
       "    </tr>\n",
       "  </tbody>\n",
       "</table>\n",
       "</div>"
      ],
      "text/plain": [
       "             0\n",
       "2015   3048787\n",
       "2014   2913472\n",
       "2013   2822159\n",
       "2012   2819925\n",
       "2011   2805127"
      ]
     },
     "execution_count": 549,
     "metadata": {},
     "output_type": "execute_result"
    }
   ],
   "source": [
    "anstwo = anstwo.apply(lambda x: pd.to_numeric(x))\n",
    "anstwo.sum().to_frame().sort_values(by=0, ascending=False).head()"
   ]
  },
  {
   "cell_type": "code",
   "execution_count": 563,
   "metadata": {
    "collapsed": false
   },
   "outputs": [
    {
     "data": {
      "text/plain": [
       "<matplotlib.axes._subplots.AxesSubplot at 0x120cab850>"
      ]
     },
     "execution_count": 563,
     "metadata": {},
     "output_type": "execute_result"
    },
    {
     "data": {
      "image/png": "[encoded data removed]",
      "text/plain": [
       "<matplotlib.figure.Figure at 0x131e0ef90>"
      ]
     },
     "metadata": {},
     "output_type": "display_data"
    }
   ],
   "source": [
    "anstwo.sum().to_frame().sort_values(by=0, ascending=False).head().plot(kind='bar', color='purple', legend=False)"
   ]
  },
  {
   "cell_type": "code",
   "execution_count": 523,
   "metadata": {
    "collapsed": false
   },
   "outputs": [],
   "source": [
    "ansthree = o.iloc[:,4:].\n",
    "ansthree.index = o['geo\\\\time']"
   ]
  },
  {
   "cell_type": "code",
   "execution_count": 537,
   "metadata": {
    "collapsed": false
   },
   "outputs": [],
   "source": [
    "ansthree = ansthree[[ansthree.columns[0], ansthree.columns[-1]]].apply(lambda x: pd.to_numeric(x))"
   ]
  },
  {
   "cell_type": "code",
   "execution_count": 538,
   "metadata": {
    "collapsed": false
   },
   "outputs": [],
   "source": [
    "ansthree.columns = ['2015', '1999']"
   ]
  },
  {
   "cell_type": "code",
   "execution_count": 539,
   "metadata": {
    "collapsed": false
   },
   "outputs": [],
   "source": [
    "ansthree['PercentageChange'] = (ansthree['2015'] - ansthree['1999'])/ansthree['1999']"
   ]
  },
  {
   "cell_type": "markdown",
   "metadata": {},
   "source": [
    "## Question 3: Which EU country has the largest increase from 1999-2015 in terms of intra-EU trade?  Macro-economically, what is your hypothesis behind this increase?\n",
    "\n",
    "Answer 3: Lithuania (LT) has the largest increase because being a argricultural country, it has considerably increased its export of cereals to help push up the overeall trade."
   ]
  },
  {
   "cell_type": "code",
   "execution_count": 541,
   "metadata": {
    "collapsed": false
   },
   "outputs": [
    {
     "data": {
      "text/html": [
       "<div>\n",
       "<table border=\"1\" class=\"dataframe\">\n",
       "  <thead>\n",
       "    <tr style=\"text-align: right;\">\n",
       "      <th></th>\n",
       "      <th>2015</th>\n",
       "      <th>1999</th>\n",
       "      <th>PercentageChange</th>\n",
       "    </tr>\n",
       "    <tr>\n",
       "      <th>geo\\time</th>\n",
       "      <th></th>\n",
       "      <th></th>\n",
       "      <th></th>\n",
       "    </tr>\n",
       "  </thead>\n",
       "  <tbody>\n",
       "    <tr>\n",
       "      <th>LT</th>\n",
       "      <td>14067</td>\n",
       "      <td>1906</td>\n",
       "      <td>6.380378</td>\n",
       "    </tr>\n",
       "    <tr>\n",
       "      <th>BG</th>\n",
       "      <td>14780</td>\n",
       "      <td>2135</td>\n",
       "      <td>5.922717</td>\n",
       "    </tr>\n",
       "    <tr>\n",
       "      <th>RO</th>\n",
       "      <td>40077</td>\n",
       "      <td>5826</td>\n",
       "      <td>5.878991</td>\n",
       "    </tr>\n",
       "    <tr>\n",
       "      <th>SK</th>\n",
       "      <td>57763</td>\n",
       "      <td>8570</td>\n",
       "      <td>5.740140</td>\n",
       "    </tr>\n",
       "    <tr>\n",
       "      <th>PL</th>\n",
       "      <td>141018</td>\n",
       "      <td>20959</td>\n",
       "      <td>5.728279</td>\n",
       "    </tr>\n",
       "  </tbody>\n",
       "</table>\n",
       "</div>"
      ],
      "text/plain": [
       "            2015   1999  PercentageChange\n",
       "geo\\time                                 \n",
       "LT         14067   1906          6.380378\n",
       "BG         14780   2135          5.922717\n",
       "RO         40077   5826          5.878991\n",
       "SK         57763   8570          5.740140\n",
       "PL        141018  20959          5.728279"
      ]
     },
     "execution_count": 541,
     "metadata": {},
     "output_type": "execute_result"
    }
   ],
   "source": [
    "ansthree.sort_values(by='PercentageChange', ascending=False).head(5)"
   ]
  },
  {
   "cell_type": "code",
   "execution_count": 560,
   "metadata": {
    "collapsed": false
   },
   "outputs": [
    {
     "data": {
      "text/plain": [
       "<matplotlib.axes._subplots.AxesSubplot at 0x131b8fe10>"
      ]
     },
     "execution_count": 560,
     "metadata": {},
     "output_type": "execute_result"
    },
    {
     "data": {
      "image/png": "[encoded data removed]",
      "text/plain": [
       "<matplotlib.figure.Figure at 0x131ac4dd0>"
      ]
     },
     "metadata": {},
     "output_type": "display_data"
    }
   ],
   "source": [
    "ansthree.sort_values(by='PercentageChange', ascending=False).head(5)['PercentageChange'].plot(kind='bar', color='seagreen')"
   ]
  },
  {
   "cell_type": "markdown",
   "metadata": {},
   "source": [
    "## Question 4: Which EU country has the largest decrease from 1999-2015 in terms of intra-EU trade?  Macro-economically, what is your hypothesis behind this drop?\n",
    "\n",
    "Answer 4: There is no decrease in any of the countries but Malta (MT) has the smallest increase because Malta is apparently the hardest place to have a business with all its restrictions on trade licenses."
   ]
  },
  {
   "cell_type": "code",
   "execution_count": 543,
   "metadata": {
    "collapsed": false
   },
   "outputs": [
    {
     "data": {
      "text/html": [
       "<div>\n",
       "<table border=\"1\" class=\"dataframe\">\n",
       "  <thead>\n",
       "    <tr style=\"text-align: right;\">\n",
       "      <th></th>\n",
       "      <th>2015</th>\n",
       "      <th>1999</th>\n",
       "      <th>PercentageChange</th>\n",
       "    </tr>\n",
       "    <tr>\n",
       "      <th>geo\\time</th>\n",
       "      <th></th>\n",
       "      <th></th>\n",
       "      <th></th>\n",
       "    </tr>\n",
       "  </thead>\n",
       "  <tbody>\n",
       "    <tr>\n",
       "      <th>MT</th>\n",
       "      <td>1049</td>\n",
       "      <td>911</td>\n",
       "      <td>0.151482</td>\n",
       "    </tr>\n",
       "    <tr>\n",
       "      <th>UK</th>\n",
       "      <td>184082</td>\n",
       "      <td>155137</td>\n",
       "      <td>0.186577</td>\n",
       "    </tr>\n",
       "    <tr>\n",
       "      <th>FI</th>\n",
       "      <td>31733</td>\n",
       "      <td>25932</td>\n",
       "      <td>0.223700</td>\n",
       "    </tr>\n",
       "    <tr>\n",
       "      <th>IE</th>\n",
       "      <td>58811</td>\n",
       "      <td>44959</td>\n",
       "      <td>0.308103</td>\n",
       "    </tr>\n",
       "    <tr>\n",
       "      <th>FR</th>\n",
       "      <td>267838</td>\n",
       "      <td>199461</td>\n",
       "      <td>0.342809</td>\n",
       "    </tr>\n",
       "  </tbody>\n",
       "</table>\n",
       "</div>"
      ],
      "text/plain": [
       "            2015    1999  PercentageChange\n",
       "geo\\time                                  \n",
       "MT          1049     911          0.151482\n",
       "UK        184082  155137          0.186577\n",
       "FI         31733   25932          0.223700\n",
       "IE         58811   44959          0.308103\n",
       "FR        267838  199461          0.342809"
      ]
     },
     "execution_count": 543,
     "metadata": {},
     "output_type": "execute_result"
    }
   ],
   "source": [
    "ansfour = ansthree.sort_values(by='PercentageChange', ascending=True).head(5)\n",
    "ansfour"
   ]
  },
  {
   "cell_type": "code",
   "execution_count": 562,
   "metadata": {
    "collapsed": false
   },
   "outputs": [
    {
     "data": {
      "text/plain": [
       "<matplotlib.axes._subplots.AxesSubplot at 0x131c6ccd0>"
      ]
     },
     "execution_count": 562,
     "metadata": {},
     "output_type": "execute_result"
    },
    {
     "data": {
      "image/png": "[encoded data removed]",
      "text/plain": [
       "<matplotlib.figure.Figure at 0x131df39d0>"
      ]
     },
     "metadata": {},
     "output_type": "display_data"
    }
   ],
   "source": [
    "ansfour['PercentageChange'].plot(kind='bar', color='indianred')"
   ]
  },
  {
   "cell_type": "markdown",
   "metadata": {},
   "source": [
    "## Question 5: Analyze this dataset as a DataFrame and describe an insight that you are able to deduce."
   ]
  },
  {
   "cell_type": "code",
   "execution_count": 580,
   "metadata": {
    "collapsed": false
   },
   "outputs": [
    {
     "data": {
      "text/plain": [
       "<matplotlib.axes._subplots.AxesSubplot at 0x131e0e6d0>"
      ]
     },
     "execution_count": 580,
     "metadata": {},
     "output_type": "execute_result"
    },
    {
     "data": {
      "image/png": "[encoded data removed]",
      "text/plain": [
       "<matplotlib.figure.Figure at 0x1329a5590>"
      ]
     },
     "metadata": {},
     "output_type": "display_data"
    }
   ],
   "source": [
    "ansfive = o.iloc[:,4:]\n",
    "ansfive.T.apply(lambda x: pd.to_numeric(x)).plot(legend=False)"
   ]
  },
  {
   "cell_type": "markdown",
   "metadata": {},
   "source": [
    "It's pretty interesting looking at the graph above itself. Although it's just a high-level view of the trade values, we can clearly notice two things here:\n",
    "\n",
    "* All trades have a steady increase for two factors:\n",
    "\n",
    "    * Each country has improved their trade styles to cope up with the rest of the countries in the European Union and that has stopped us from answering question 4 because there are no real decrease in any of their trades.\n",
    "    \n",
    "    * The rise in value could also be attributed to inflation of the Euro over time. \n",
    "    \n",
    "* Recession played a big part in trades during the 2008-2009 period where every trade amount dropped significantly but it played a bigger factor for the countries that were already doing well, and didn't make much of an impact for the countries who were still developing at the time."
   ]
  }
 ],
 "metadata": {
  "kernelspec": {
   "display_name": "Python 3",
   "language": "python",
   "name": "python3"
  },
  "language_info": {
   "codemirror_mode": {
    "name": "ipython",
    "version": 3
   },
   "file_extension": ".py",
   "mimetype": "text/x-python",
   "name": "python",
   "nbconvert_exporter": "python",
   "pygments_lexer": "ipython3",
   "version": "3.5.1"
  }
 },
 "nbformat": 4,
 "nbformat_minor": 0
}
